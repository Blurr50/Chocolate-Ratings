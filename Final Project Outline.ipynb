{
 "cells": [
  {
   "cell_type": "code",
   "execution_count": 2,
   "id": "e090c15d-2052-4720-9a6e-1e6ac86a8b1d",
   "metadata": {},
   "outputs": [],
   "source": [
    "import numpy as np\n",
    "import pandas as pd\n",
    "\n",
    "import matplotlib.pyplot as plt\n",
    "import plotly.express as px\n",
    "from plotly.subplots import make_subplots\n",
    "import plotly.io as pio\n",
    "pio.renderers.defaule = 'colab'\n",
    "\n",
    "from itables import show"
   ]
  },
  {
   "cell_type": "code",
   "execution_count": 9,
   "id": "91549b28-bd2a-48b1-b0e7-fa9772f81c14",
   "metadata": {},
   "outputs": [
    {
     "ename": "SyntaxError",
     "evalue": "invalid syntax. Perhaps you forgot a comma? (4269441754.py, line 4)",
     "output_type": "error",
     "traceback": [
      "\u001b[1;36m  Cell \u001b[1;32mIn[9], line 4\u001b[1;36m\u001b[0m\n\u001b[1;33m    DF.rename(columns{'Specific Bean Origin or Bar name': 'BarName'}, inplace = True)\u001b[0m\n\u001b[1;37m              ^\u001b[0m\n\u001b[1;31mSyntaxError\u001b[0m\u001b[1;31m:\u001b[0m invalid syntax. Perhaps you forgot a comma?\n"
     ]
    }
   ],
   "source": [
    "location = \"C:/Users/chrys/Data Science 101/Chocolate-Ratings/Data/flavors_of_cacao.csv\"\n",
    "DF = pd.read_csv(location)\n",
    "DF.columns = DF.columns.str.replace('\\n', '')\n",
    "DF.rename(columns{'Specific Bean Origin or Bar name': 'BarName'}, inplace = True)\n",
    "show(DF)"
   ]
  },
  {
   "cell_type": "markdown",
   "id": "96d99dd3-ac75-4dbf-8751-0c01a43b93ff",
   "metadata": {},
   "source": [
    "**Final Project Outline**\n",
    "\n",
    "By Selene Myhre"
   ]
  },
  {
   "cell_type": "code",
   "execution_count": 4,
   "id": "8478b59c-64df-4ff6-bb81-88c2c514a971",
   "metadata": {},
   "outputs": [
    {
     "data": {
      "text/html": [
       "<div>\n",
       "<style scoped>\n",
       "    .dataframe tbody tr th:only-of-type {\n",
       "        vertical-align: middle;\n",
       "    }\n",
       "\n",
       "    .dataframe tbody tr th {\n",
       "        vertical-align: top;\n",
       "    }\n",
       "\n",
       "    .dataframe thead th {\n",
       "        text-align: right;\n",
       "    }\n",
       "</style>\n",
       "<table border=\"1\" class=\"dataframe\">\n",
       "  <thead>\n",
       "    <tr style=\"text-align: right;\">\n",
       "      <th></th>\n",
       "      <th>Rating</th>\n",
       "      <th>Specific Bean Origin or Bar Name</th>\n",
       "      <th>Company</th>\n",
       "      <th>CocoaPercent</th>\n",
       "    </tr>\n",
       "  </thead>\n",
       "  <tbody>\n",
       "    <tr>\n",
       "      <th>78</th>\n",
       "      <td>5.0</td>\n",
       "      <td>Chuao</td>\n",
       "      <td>Amedei</td>\n",
       "      <td>70%</td>\n",
       "    </tr>\n",
       "    <tr>\n",
       "      <th>86</th>\n",
       "      <td>5.0</td>\n",
       "      <td>Toscano Black</td>\n",
       "      <td>Amedei</td>\n",
       "      <td>70%</td>\n",
       "    </tr>\n",
       "    <tr>\n",
       "      <th>222</th>\n",
       "      <td>4.0</td>\n",
       "      <td>Kaori</td>\n",
       "      <td>Bonnat</td>\n",
       "      <td>75%</td>\n",
       "    </tr>\n",
       "    <tr>\n",
       "      <th>76</th>\n",
       "      <td>4.0</td>\n",
       "      <td>Porcelana</td>\n",
       "      <td>Amedei</td>\n",
       "      <td>70%</td>\n",
       "    </tr>\n",
       "    <tr>\n",
       "      <th>1663</th>\n",
       "      <td>4.0</td>\n",
       "      <td>Roxborough, Tobago</td>\n",
       "      <td>Tobago Estate (Pralus)</td>\n",
       "      <td>70%</td>\n",
       "    </tr>\n",
       "    <tr>\n",
       "      <th>...</th>\n",
       "      <td>...</td>\n",
       "      <td>...</td>\n",
       "      <td>...</td>\n",
       "      <td>...</td>\n",
       "    </tr>\n",
       "    <tr>\n",
       "      <th>245</th>\n",
       "      <td>1.5</td>\n",
       "      <td>One Hundred</td>\n",
       "      <td>Bonnat</td>\n",
       "      <td>100%</td>\n",
       "    </tr>\n",
       "    <tr>\n",
       "      <th>437</th>\n",
       "      <td>1.0</td>\n",
       "      <td>Principe</td>\n",
       "      <td>Claudio Corallo</td>\n",
       "      <td>100%</td>\n",
       "    </tr>\n",
       "    <tr>\n",
       "      <th>465</th>\n",
       "      <td>1.0</td>\n",
       "      <td>Sensations Intense</td>\n",
       "      <td>Cote d' Or (Kraft)</td>\n",
       "      <td>70%</td>\n",
       "    </tr>\n",
       "    <tr>\n",
       "      <th>326</th>\n",
       "      <td>1.0</td>\n",
       "      <td>Baking</td>\n",
       "      <td>Callebaut</td>\n",
       "      <td>70%</td>\n",
       "    </tr>\n",
       "    <tr>\n",
       "      <th>1175</th>\n",
       "      <td>1.0</td>\n",
       "      <td>Dark</td>\n",
       "      <td>Neuhaus (Callebaut)</td>\n",
       "      <td>73%</td>\n",
       "    </tr>\n",
       "  </tbody>\n",
       "</table>\n",
       "<p>1795 rows × 4 columns</p>\n",
       "</div>"
      ],
      "text/plain": [
       "      Rating Specific Bean Origin or Bar Name                 Company  \\\n",
       "78       5.0                            Chuao                  Amedei   \n",
       "86       5.0                    Toscano Black                  Amedei   \n",
       "222      4.0                            Kaori                  Bonnat   \n",
       "76       4.0                        Porcelana                  Amedei   \n",
       "1663     4.0               Roxborough, Tobago  Tobago Estate (Pralus)   \n",
       "...      ...                              ...                     ...   \n",
       "245      1.5                      One Hundred                  Bonnat   \n",
       "437      1.0                         Principe         Claudio Corallo   \n",
       "465      1.0               Sensations Intense      Cote d' Or (Kraft)   \n",
       "326      1.0                           Baking               Callebaut   \n",
       "1175     1.0                             Dark     Neuhaus (Callebaut)   \n",
       "\n",
       "     CocoaPercent  \n",
       "78            70%  \n",
       "86            70%  \n",
       "222           75%  \n",
       "76            70%  \n",
       "1663          70%  \n",
       "...           ...  \n",
       "245          100%  \n",
       "437          100%  \n",
       "465           70%  \n",
       "326           70%  \n",
       "1175          73%  \n",
       "\n",
       "[1795 rows x 4 columns]"
      ]
     },
     "execution_count": 4,
     "metadata": {},
     "output_type": "execute_result"
    }
   ],
   "source": [
    "columns = ['Rating','Specific Bean Origin or Bar Name','Company','CocoaPercent']\n",
    "DF[columns].sort_values(by = 'Rating',ascending = False)"
   ]
  },
  {
   "cell_type": "markdown",
   "id": "ca55b22a-1337-49f4-a930-4980b45ef81f",
   "metadata": {},
   "source": [
    "Which countries produce the highest rated chocolate bars?\n",
    "\n"
   ]
  },
  {
   "cell_type": "code",
   "execution_count": null,
   "id": "4e0e480c-1ed9-40a0-95e2-7f79021e5b8b",
   "metadata": {},
   "outputs": [],
   "source": []
  },
  {
   "cell_type": "code",
   "execution_count": null,
   "id": "9e7a4fdc-001b-4def-a20b-4bb048cdbdda",
   "metadata": {},
   "outputs": [],
   "source": []
  },
  {
   "cell_type": "code",
   "execution_count": null,
   "id": "a424ff9d-1eb0-4190-96dc-2970d9df5f5c",
   "metadata": {},
   "outputs": [],
   "source": []
  },
  {
   "cell_type": "code",
   "execution_count": null,
   "id": "ccc980cf-5b24-47b2-8698-41408861c5df",
   "metadata": {},
   "outputs": [],
   "source": []
  }
 ],
 "metadata": {
  "kernelspec": {
   "display_name": "Python 3 (ipykernel)",
   "language": "python",
   "name": "python3"
  },
  "language_info": {
   "codemirror_mode": {
    "name": "ipython",
    "version": 3
   },
   "file_extension": ".py",
   "mimetype": "text/x-python",
   "name": "python",
   "nbconvert_exporter": "python",
   "pygments_lexer": "ipython3",
   "version": "3.12.3"
  }
 },
 "nbformat": 4,
 "nbformat_minor": 5
}
